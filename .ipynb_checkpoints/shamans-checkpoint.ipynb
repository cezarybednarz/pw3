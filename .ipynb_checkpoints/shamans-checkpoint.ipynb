{
 "cells": [
  {
   "cell_type": "code",
   "execution_count": 3,
   "metadata": {},
   "outputs": [
    {
     "data": {
      "text/plain": [
       "array([[ 9.90761, 11.5395 ,  5.27464,  4.50694,  4.04422,  4.07444,\n",
       "         3.87214,  4.86545,  3.55959,      nan],\n",
       "       [10.166  ,  9.97248,  5.60628,  3.7594 ,  5.64074,  4.40288,\n",
       "         3.90192,  4.55369,  4.17049,      nan],\n",
       "       [10.0196 ,  9.28088,  5.36938,  5.39346,  3.89427,  3.85513,\n",
       "         4.35451,  4.49718,  3.66445,      nan],\n",
       "       [10.1718 ,  9.34467,  5.41398,  3.58219,  3.64414,  4.0064 ,\n",
       "         3.60375,  4.2312 ,  4.30086,      nan],\n",
       "       [10.0532 ,  9.67497,  5.88228,  3.50509,  3.63552,  3.73158,\n",
       "         4.00611,  4.51677,  3.77203,      nan],\n",
       "       [ 9.58037,  9.50332,  5.13512,  3.54243,  4.01171,  5.26923,\n",
       "         5.64915,  4.29013,  4.07028,      nan],\n",
       "       [10.2986 ,  9.94563,  5.64411,  3.48957,  3.54174,  3.78178,\n",
       "         3.55052,  3.97022,  4.04016,      nan],\n",
       "       [ 9.45501,  9.63655,  5.36555,  3.50131,  4.72691,  4.17153,\n",
       "         3.74029,  3.52514,  4.71793,      nan],\n",
       "       [ 9.36745,  9.62945,  5.01715,  3.71722,  3.51832,  4.29459,\n",
       "         3.9683 ,  3.71157,  3.97803,      nan],\n",
       "       [11.2929 ,  9.3257 ,  5.65739,  3.3692 ,  3.88886,  4.3338 ,\n",
       "         4.14999,  3.90354,  4.25149,      nan]])"
      ]
     },
     "execution_count": 3,
     "metadata": {},
     "output_type": "execute_result"
    }
   ],
   "source": [
    "import matplotlib.pyplot as plt\n",
    "import numpy as np\n",
    "\n",
    "\n",
    "sort10000 = np.genfromtxt('src/tests/sort1000.csv', delimiter=',')\n",
    "\n",
    "\n",
    "\n",
    "\n"
   ]
  },
  {
   "cell_type": "code",
   "execution_count": null,
   "metadata": {},
   "outputs": [],
   "source": []
  }
 ],
 "metadata": {
  "kernelspec": {
   "display_name": "Python 3",
   "language": "python",
   "name": "python3"
  },
  "language_info": {
   "codemirror_mode": {
    "name": "ipython",
    "version": 3
   },
   "file_extension": ".py",
   "mimetype": "text/x-python",
   "name": "python",
   "nbconvert_exporter": "python",
   "pygments_lexer": "ipython3",
   "version": "3.6.8"
  }
 },
 "nbformat": 4,
 "nbformat_minor": 2
}
